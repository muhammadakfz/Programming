{
 "cells": [
  {
   "cell_type": "markdown",
   "metadata": {},
   "source": [
    "#### **Muhammad Akhyar Fahrurrozi/XMIPA7/20**"
   ]
  },
  {
   "cell_type": "code",
   "execution_count": null,
   "metadata": {},
   "outputs": [
    {
     "name": "stdout",
     "output_type": "stream",
     "text": [
      "Gaji yang didapatkan Abid sebesar 430000\n"
     ]
    },
    {
     "ename": "",
     "evalue": "",
     "output_type": "error",
     "traceback": [
      "\u001b[1;31mFailed to start the Kernel. \n",
      "Canceled. \n",
      "View Jupyter <a href='command:jupyter.viewOutput'>log</a> for further details."
     ]
    }
   ],
   "source": [
    "# 4. Buatlah sebuah program sederhana untuk menghitung gaji karyawan setiap minggunya. Diperlukan input nama, jam kerja per minggu dan jam lemburnya. \n",
    "# Upah normal yang didapat adalah Rp. 10.000/jam kerja. Upah lembur dihitung 7500/jam lembur. \n",
    "# Total gaji yang didapat dari perhitungan upah normal ditambahkan dengan upah lemburnya. \n",
    "# Nama, jam kerja dan jam lembur menggunakan input( ) dan huruf pertama setiap kata di nama karyawan harus dirubah menjadi huruf kapital. Bisa dilihat di contoh output.\n",
    "\n",
    "nama_lengkap = input(\"Nama: \")\n",
    "jam_kerja = int(input(\"Masukkan jam kerja per minggu: \"))\n",
    "jam_lembur = int(input(\"Masukkan jam lembur per minggu: \"))\n",
    "total_gaji = jam_kerja * 10000 + jam_lembur * 7500\n",
    "print(f'Gaji yang didapatkan {nama_lengkap.capitalize()} sebesar {total_gaji}')"
   ]
  },
  {
   "cell_type": "code",
   "execution_count": 19,
   "metadata": {},
   "outputs": [
    {
     "name": "stdout",
     "output_type": "stream",
     "text": [
      "Total gaji 275000\n"
     ]
    }
   ],
   "source": [
    "# 6. Buatlah program  untuk menentukan gaji seorang karyawan berdasarkan waktu/jam kerjanya, \n",
    "# dengan aturan bahwa batasan jam kerja normal adalah 50 sampai 60 jam/minggu dengan upah Rp. 5000/jam. \n",
    "# Jika lebih dari batas tersebut, maka kelebihan perjamnya dibayar Rp. 7500/jam. Tetapi jika jam kerjanya kurang dari 50 jam/minggu, \n",
    "# maka dikenakan potongan Rp. 2500/jam. (Input : jam kerja/minggu dan output : total gaji)\n",
    "\n",
    "jam_kerja_seminggu = int(input(\"Masukkan jam kerja setiap minggu: \"))\n",
    "\n",
    "if jam_kerja_seminggu >= 50 and jam_kerja_seminggu <= 60 :\n",
    "    upah = jam_kerja_seminggu * 5000\n",
    "    print(f'Total gaji {upah}')\n",
    "elif jam_kerja_seminggu > 60 :\n",
    "    upah = 60 * 5000 + ((jam_kerja_seminggu - 60) * 7500)\n",
    "    print(f'Total gaji {upah}')\n",
    "else :\n",
    "    upah = jam_kerja_seminggu * 2500\n",
    "    print(f'Total gaji {upah}')"
   ]
  }
 ],
 "metadata": {
  "interpreter": {
   "hash": "0b647197a1fcc38d756609367937b3918f8af3cc96749ff11478d444b1db53c3"
  },
  "kernelspec": {
   "display_name": "Python 3.9.13 64-bit (windows store)",
   "language": "python",
   "name": "python3"
  },
  "language_info": {
   "codemirror_mode": {
    "name": "ipython",
    "version": 3
   },
   "file_extension": ".py",
   "mimetype": "text/x-python",
   "name": "python",
   "nbconvert_exporter": "python",
   "pygments_lexer": "ipython3",
   "version": "3.9.13"
  },
  "orig_nbformat": 4
 },
 "nbformat": 4,
 "nbformat_minor": 2
}
