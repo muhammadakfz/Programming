{
 "cells": [
  {
   "cell_type": "code",
   "execution_count": 16,
   "metadata": {},
   "outputs": [
    {
     "name": "stdout",
     "output_type": "stream",
     "text": [
      "25\n"
     ]
    }
   ],
   "source": [
    "user = int(input(\"Masukkan angka ke-n: \"))\n",
    "angka = 0\n",
    "\n",
    "for i in range(1, user):\n",
    "    if(i % 2 and i % 5 == 0):\n",
    "        angka += i\n",
    "    elif(i % 2 == 0):\n",
    "        angka += i\n",
    "    elif(i % 5 == 0):\n",
    "        angka += i\n",
    "    else:\n",
    "        continue\n",
    "\n",
    "print(angka)"
   ]
  },
  {
   "cell_type": "code",
   "execution_count": 17,
   "metadata": {},
   "outputs": [
    {
     "name": "stdout",
     "output_type": "stream",
     "text": [
      "Angka 1\n",
      "Angka 2\n",
      "Angka 3\n",
      "Angka 4\n",
      "Angka 5\n",
      "Angka 6\n",
      "Angka 7\n",
      "Angka 8\n",
      "Angka 9\n",
      "Angka 10\n"
     ]
    }
   ],
   "source": [
    "user = int(input(\"Masukkan angka ke-n: \"))\n",
    "for i in range(1, user+1):\n",
    "    print(f'Angka {i}')"
   ]
  },
  {
   "cell_type": "code",
   "execution_count": 18,
   "metadata": {},
   "outputs": [
    {
     "name": "stdout",
     "output_type": "stream",
     "text": [
      "7\n"
     ]
    }
   ],
   "source": [
    "user = int(input(\"Masukkan angka ke-n: \"))\n",
    "for i in range(1, user):\n",
    "    if i % 7 == 0:\n",
    "        print(i)"
   ]
  }
 ],
 "metadata": {
  "interpreter": {
   "hash": "4f3b078249380ea762697f4f8f6aea77b3d6e43cbb1b18cbb73d8cde5aa597e7"
  },
  "kernelspec": {
   "display_name": "Python 3.9.7 64-bit (system)",
   "language": "python",
   "name": "python3"
  },
  "language_info": {
   "codemirror_mode": {
    "name": "ipython",
    "version": 3
   },
   "file_extension": ".py",
   "mimetype": "text/x-python",
   "name": "python",
   "nbconvert_exporter": "python",
   "pygments_lexer": "ipython3",
   "version": "3.9.10"
  },
  "orig_nbformat": 4
 },
 "nbformat": 4,
 "nbformat_minor": 2
}
